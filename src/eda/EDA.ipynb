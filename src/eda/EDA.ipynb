{
 "cells": [
  {
   "cell_type": "code",
   "execution_count": 1,
   "id": "e79f52b5",
   "metadata": {},
   "outputs": [
    {
     "name": "stdout",
     "output_type": "stream",
     "text": [
      "Python 3.9.15\r\n"
     ]
    }
   ],
   "source": [
    "!python --version"
   ]
  },
  {
   "cell_type": "code",
   "execution_count": 7,
   "id": "bae10a0c",
   "metadata": {},
   "outputs": [
    {
     "name": "stdout",
     "output_type": "stream",
     "text": [
      "Collecting pandas-profiling==3.1.0\n",
      "  Downloading pandas_profiling-3.1.0-py2.py3-none-any.whl (261 kB)\n",
      "\u001b[K     |████████████████████████████████| 261 kB 11.3 MB/s eta 0:00:01     |███████████████                 | 122 kB 11.3 MB/s eta 0:00:01\n",
      "\u001b[?25hRequirement already satisfied: phik>=0.11.1 in /home/rim/miniconda3/envs/mlflow-7382b2b3b1aec80eccfc61e482992a49c43b669d/lib/python3.9/site-packages (from pandas-profiling==3.1.0) (0.12.3)\n",
      "Requirement already satisfied: PyYAML>=5.0.0 in /home/rim/miniconda3/envs/mlflow-7382b2b3b1aec80eccfc61e482992a49c43b669d/lib/python3.9/site-packages (from pandas-profiling==3.1.0) (6.0)\n",
      "Requirement already satisfied: htmlmin>=0.1.12 in /home/rim/miniconda3/envs/mlflow-7382b2b3b1aec80eccfc61e482992a49c43b669d/lib/python3.9/site-packages (from pandas-profiling==3.1.0) (0.1.12)\n",
      "Requirement already satisfied: numpy>=1.16.0 in /home/rim/miniconda3/envs/mlflow-7382b2b3b1aec80eccfc61e482992a49c43b669d/lib/python3.9/site-packages (from pandas-profiling==3.1.0) (1.24.1)\n",
      "Requirement already satisfied: pandas!=1.0.0,!=1.0.1,!=1.0.2,!=1.1.0,>=0.25.3 in /home/rim/miniconda3/envs/mlflow-7382b2b3b1aec80eccfc61e482992a49c43b669d/lib/python3.9/site-packages (from pandas-profiling==3.1.0) (1.2.3)\n",
      "Requirement already satisfied: missingno>=0.4.2 in /home/rim/miniconda3/envs/mlflow-7382b2b3b1aec80eccfc61e482992a49c43b669d/lib/python3.9/site-packages (from pandas-profiling==3.1.0) (0.4.2)\n",
      "Requirement already satisfied: tqdm>=4.48.2 in /home/rim/miniconda3/envs/mlflow-7382b2b3b1aec80eccfc61e482992a49c43b669d/lib/python3.9/site-packages (from pandas-profiling==3.1.0) (4.64.1)\n",
      "Requirement already satisfied: seaborn>=0.10.1 in /home/rim/miniconda3/envs/mlflow-7382b2b3b1aec80eccfc61e482992a49c43b669d/lib/python3.9/site-packages (from pandas-profiling==3.1.0) (0.11.1)\n",
      "Requirement already satisfied: jinja2>=2.11.1 in /home/rim/miniconda3/envs/mlflow-7382b2b3b1aec80eccfc61e482992a49c43b669d/lib/python3.9/site-packages (from pandas-profiling==3.1.0) (3.1.2)\n",
      "Requirement already satisfied: requests>=2.24.0 in /home/rim/miniconda3/envs/mlflow-7382b2b3b1aec80eccfc61e482992a49c43b669d/lib/python3.9/site-packages (from pandas-profiling==3.1.0) (2.28.1)\n",
      "Requirement already satisfied: scipy>=1.4.1 in /home/rim/miniconda3/envs/mlflow-7382b2b3b1aec80eccfc61e482992a49c43b669d/lib/python3.9/site-packages (from pandas-profiling==3.1.0) (1.10.0)\n",
      "Requirement already satisfied: matplotlib>=3.2.0 in /home/rim/miniconda3/envs/mlflow-7382b2b3b1aec80eccfc61e482992a49c43b669d/lib/python3.9/site-packages (from pandas-profiling==3.1.0) (3.6.2)\n",
      "Collecting tangled-up-in-unicode==0.1.0\n",
      "  Downloading tangled_up_in_unicode-0.1.0-py3-none-any.whl (3.1 MB)\n",
      "\u001b[K     |████████████████████████████████| 3.1 MB 56.5 MB/s eta 0:00:01\n",
      "\u001b[?25hCollecting visions[type_image_path]==0.7.4\n",
      "  Downloading visions-0.7.4-py3-none-any.whl (102 kB)\n",
      "\u001b[K     |████████████████████████████████| 102 kB 10.9 MB/s ta 0:00:01\n",
      "\u001b[?25hRequirement already satisfied: networkx>=2.4 in /home/rim/miniconda3/envs/mlflow-7382b2b3b1aec80eccfc61e482992a49c43b669d/lib/python3.9/site-packages (from visions[type_image_path]==0.7.4->pandas-profiling==3.1.0) (2.8.8)\n",
      "Requirement already satisfied: attrs>=19.3.0 in /home/rim/miniconda3/envs/mlflow-7382b2b3b1aec80eccfc61e482992a49c43b669d/lib/python3.9/site-packages (from visions[type_image_path]==0.7.4->pandas-profiling==3.1.0) (22.2.0)\n",
      "Requirement already satisfied: imagehash in /home/rim/miniconda3/envs/mlflow-7382b2b3b1aec80eccfc61e482992a49c43b669d/lib/python3.9/site-packages (from visions[type_image_path]==0.7.4->pandas-profiling==3.1.0) (4.3.1)\n",
      "Requirement already satisfied: Pillow in /home/rim/miniconda3/envs/mlflow-7382b2b3b1aec80eccfc61e482992a49c43b669d/lib/python3.9/site-packages (from visions[type_image_path]==0.7.4->pandas-profiling==3.1.0) (9.4.0)\n",
      "Collecting joblib~=1.0.1\n",
      "  Downloading joblib-1.0.1-py3-none-any.whl (303 kB)\n",
      "\u001b[K     |████████████████████████████████| 303 kB 36.3 MB/s eta 0:00:01\n",
      "\u001b[?25hCollecting markupsafe~=2.0.1\n",
      "  Downloading MarkupSafe-2.0.1-cp39-cp39-manylinux_2_5_x86_64.manylinux1_x86_64.manylinux_2_12_x86_64.manylinux2010_x86_64.whl (30 kB)\n",
      "Requirement already satisfied: cycler>=0.10 in /home/rim/miniconda3/envs/mlflow-7382b2b3b1aec80eccfc61e482992a49c43b669d/lib/python3.9/site-packages (from matplotlib>=3.2.0->pandas-profiling==3.1.0) (0.11.0)\n",
      "Requirement already satisfied: fonttools>=4.22.0 in /home/rim/miniconda3/envs/mlflow-7382b2b3b1aec80eccfc61e482992a49c43b669d/lib/python3.9/site-packages (from matplotlib>=3.2.0->pandas-profiling==3.1.0) (4.38.0)\n",
      "Requirement already satisfied: contourpy>=1.0.1 in /home/rim/miniconda3/envs/mlflow-7382b2b3b1aec80eccfc61e482992a49c43b669d/lib/python3.9/site-packages (from matplotlib>=3.2.0->pandas-profiling==3.1.0) (1.0.6)\n",
      "Requirement already satisfied: python-dateutil>=2.7 in /home/rim/miniconda3/envs/mlflow-7382b2b3b1aec80eccfc61e482992a49c43b669d/lib/python3.9/site-packages (from matplotlib>=3.2.0->pandas-profiling==3.1.0) (2.8.2)\n",
      "Requirement already satisfied: packaging>=20.0 in /home/rim/miniconda3/envs/mlflow-7382b2b3b1aec80eccfc61e482992a49c43b669d/lib/python3.9/site-packages (from matplotlib>=3.2.0->pandas-profiling==3.1.0) (22.0)\n",
      "Requirement already satisfied: pyparsing>=2.2.1 in /home/rim/miniconda3/envs/mlflow-7382b2b3b1aec80eccfc61e482992a49c43b669d/lib/python3.9/site-packages (from matplotlib>=3.2.0->pandas-profiling==3.1.0) (3.0.9)\n",
      "Requirement already satisfied: kiwisolver>=1.0.1 in /home/rim/miniconda3/envs/mlflow-7382b2b3b1aec80eccfc61e482992a49c43b669d/lib/python3.9/site-packages (from matplotlib>=3.2.0->pandas-profiling==3.1.0) (1.4.4)\n",
      "Collecting multimethod>=1.4\n",
      "  Using cached multimethod-1.9.1-py3-none-any.whl (10 kB)\n",
      "Requirement already satisfied: pytz>=2017.3 in /home/rim/miniconda3/envs/mlflow-7382b2b3b1aec80eccfc61e482992a49c43b669d/lib/python3.9/site-packages (from pandas!=1.0.0,!=1.0.1,!=1.0.2,!=1.1.0,>=0.25.3->pandas-profiling==3.1.0) (2022.7)\n",
      "Collecting pydantic>=1.8.1\n",
      "  Downloading pydantic-1.10.4-cp39-cp39-manylinux_2_17_x86_64.manylinux2014_x86_64.whl (3.2 MB)\n",
      "\u001b[K     |████████████████████████████████| 3.2 MB 21.2 MB/s eta 0:00:01\n",
      "\u001b[?25hRequirement already satisfied: typing-extensions>=4.2.0 in /home/rim/miniconda3/envs/mlflow-7382b2b3b1aec80eccfc61e482992a49c43b669d/lib/python3.9/site-packages (from pydantic>=1.8.1->pandas-profiling==3.1.0) (4.4.0)\n",
      "Requirement already satisfied: six>=1.5 in /home/rim/miniconda3/envs/mlflow-7382b2b3b1aec80eccfc61e482992a49c43b669d/lib/python3.9/site-packages (from python-dateutil>=2.7->matplotlib>=3.2.0->pandas-profiling==3.1.0) (1.16.0)\n",
      "Requirement already satisfied: certifi>=2017.4.17 in /home/rim/miniconda3/envs/mlflow-7382b2b3b1aec80eccfc61e482992a49c43b669d/lib/python3.9/site-packages (from requests>=2.24.0->pandas-profiling==3.1.0) (2022.12.7)\n",
      "Requirement already satisfied: charset-normalizer<3,>=2 in /home/rim/miniconda3/envs/mlflow-7382b2b3b1aec80eccfc61e482992a49c43b669d/lib/python3.9/site-packages (from requests>=2.24.0->pandas-profiling==3.1.0) (2.1.1)\n",
      "Requirement already satisfied: idna<4,>=2.5 in /home/rim/miniconda3/envs/mlflow-7382b2b3b1aec80eccfc61e482992a49c43b669d/lib/python3.9/site-packages (from requests>=2.24.0->pandas-profiling==3.1.0) (3.4)\n",
      "Requirement already satisfied: urllib3<1.27,>=1.21.1 in /home/rim/miniconda3/envs/mlflow-7382b2b3b1aec80eccfc61e482992a49c43b669d/lib/python3.9/site-packages (from requests>=2.24.0->pandas-profiling==3.1.0) (1.26.13)\n",
      "Requirement already satisfied: PyWavelets in /home/rim/miniconda3/envs/mlflow-7382b2b3b1aec80eccfc61e482992a49c43b669d/lib/python3.9/site-packages (from imagehash->visions[type_image_path]==0.7.4->pandas-profiling==3.1.0) (1.3.0)\n",
      "Installing collected packages: tangled-up-in-unicode, multimethod, visions, markupsafe, joblib, pydantic, pandas-profiling\n",
      "  Attempting uninstall: tangled-up-in-unicode\n",
      "    Found existing installation: tangled-up-in-unicode 0.2.0\n",
      "    Uninstalling tangled-up-in-unicode-0.2.0:\n",
      "      Successfully uninstalled tangled-up-in-unicode-0.2.0\n",
      "  Attempting uninstall: visions\n",
      "    Found existing installation: visions 0.6.0\n",
      "    Uninstalling visions-0.6.0:\n",
      "      Successfully uninstalled visions-0.6.0\n",
      "  Attempting uninstall: markupsafe\n",
      "    Found existing installation: MarkupSafe 2.1.1\n",
      "    Uninstalling MarkupSafe-2.1.1:\n",
      "      Successfully uninstalled MarkupSafe-2.1.1\n",
      "  Attempting uninstall: joblib\n",
      "    Found existing installation: joblib 1.2.0\n"
     ]
    },
    {
     "name": "stdout",
     "output_type": "stream",
     "text": [
      "    Uninstalling joblib-1.2.0:\n",
      "      Successfully uninstalled joblib-1.2.0\n",
      "  Attempting uninstall: pandas-profiling\n",
      "    Found existing installation: pandas-profiling 2.11.0\n",
      "    Uninstalling pandas-profiling-2.11.0:\n",
      "      Successfully uninstalled pandas-profiling-2.11.0\n",
      "Successfully installed joblib-1.0.1 markupsafe-2.0.1 multimethod-1.9.1 pandas-profiling-3.1.0 pydantic-1.10.4 tangled-up-in-unicode-0.1.0 visions-0.7.4\n"
     ]
    }
   ],
   "source": [
    "# !pip install pandas-profiling==3.1.0"
   ]
  },
  {
   "cell_type": "markdown",
   "id": "8e04470a",
   "metadata": {},
   "source": [
    "Load artifact `sample.csv` from W&B and read using `pandas`"
   ]
  },
  {
   "cell_type": "code",
   "execution_count": 1,
   "id": "2ff485e2",
   "metadata": {},
   "outputs": [
    {
     "name": "stderr",
     "output_type": "stream",
     "text": [
      "\u001b[34m\u001b[1mwandb\u001b[0m: Currently logged in as: \u001b[33mhr0294\u001b[0m. Use \u001b[1m`wandb login --relogin`\u001b[0m to force relogin\n"
     ]
    },
    {
     "data": {
      "text/html": [
       "Tracking run with wandb version 0.13.7"
      ],
      "text/plain": [
       "<IPython.core.display.HTML object>"
      ]
     },
     "metadata": {},
     "output_type": "display_data"
    },
    {
     "data": {
      "text/html": [
       "Run data is saved locally in <code>/home/rim/build-ml-pipeline-for-short-term-rental-prices/src/eda/wandb/run-20230107_172851-2ryy2mz7</code>"
      ],
      "text/plain": [
       "<IPython.core.display.HTML object>"
      ]
     },
     "metadata": {},
     "output_type": "display_data"
    },
    {
     "data": {
      "text/html": [
       "Syncing run <strong><a href=\"https://wandb.ai/hr0294/nyc_airbnb/runs/2ryy2mz7\" target=\"_blank\">pious-gorge-3</a></strong> to <a href=\"https://wandb.ai/hr0294/nyc_airbnb\" target=\"_blank\">Weights & Biases</a> (<a href=\"https://wandb.me/run\" target=\"_blank\">docs</a>)<br/>"
      ],
      "text/plain": [
       "<IPython.core.display.HTML object>"
      ]
     },
     "metadata": {},
     "output_type": "display_data"
    }
   ],
   "source": [
    "import wandb\n",
    "import pandas as pd\n",
    "\n",
    "run = wandb.init(project=\"nyc_airbnb\", group=\"eda\", save_code=True)\n",
    "local_path = wandb.use_artifact(\"sample.csv:latest\").file()\n",
    "df = pd.read_csv(local_path)"
   ]
  },
  {
   "cell_type": "markdown",
   "id": "11470696",
   "metadata": {},
   "source": [
    "profile using `pandas-profiling`"
   ]
  },
  {
   "cell_type": "code",
   "execution_count": 2,
   "id": "8c6022df",
   "metadata": {
    "collapsed": true
   },
   "outputs": [
    {
     "data": {
      "application/vnd.jupyter.widget-view+json": {
       "model_id": "aef0ba612f4e4f7b9c5c4a83fa324297",
       "version_major": 2,
       "version_minor": 0
      },
      "text/plain": [
       "Summarize dataset:   0%|          | 0/5 [00:00<?, ?it/s]"
      ]
     },
     "metadata": {},
     "output_type": "display_data"
    },
    {
     "data": {
      "application/vnd.jupyter.widget-view+json": {
       "model_id": "52ae353450034741820f2b403c24a0b4",
       "version_major": 2,
       "version_minor": 0
      },
      "text/plain": [
       "Generate report structure:   0%|          | 0/1 [00:00<?, ?it/s]"
      ]
     },
     "metadata": {},
     "output_type": "display_data"
    },
    {
     "data": {
      "application/vnd.jupyter.widget-view+json": {
       "model_id": "8ddc9b0266ec4e9e98de0140f60d8a53",
       "version_major": 2,
       "version_minor": 0
      },
      "text/plain": [
       "Render widgets:   0%|          | 0/1 [00:00<?, ?it/s]"
      ]
     },
     "metadata": {},
     "output_type": "display_data"
    },
    {
     "ename": "TraitError",
     "evalue": "n_rows and n_columns must be positive integer",
     "output_type": "error",
     "traceback": [
      "\u001b[0;31m---------------------------------------------------------------------------\u001b[0m",
      "\u001b[0;31mTraitError\u001b[0m                                Traceback (most recent call last)",
      "Cell \u001b[0;32mIn[2], line 4\u001b[0m\n\u001b[1;32m      1\u001b[0m \u001b[38;5;28;01mimport\u001b[39;00m \u001b[38;5;21;01mpandas_profiling\u001b[39;00m\n\u001b[1;32m      3\u001b[0m profile \u001b[38;5;241m=\u001b[39m pandas_profiling\u001b[38;5;241m.\u001b[39mProfileReport(df)\n\u001b[0;32m----> 4\u001b[0m \u001b[43mprofile\u001b[49m\u001b[38;5;241;43m.\u001b[39;49m\u001b[43mto_widgets\u001b[49m\u001b[43m(\u001b[49m\u001b[43m)\u001b[49m\n",
      "File \u001b[0;32m~/miniconda3/envs/mlflow-7382b2b3b1aec80eccfc61e482992a49c43b669d/lib/python3.9/site-packages/pandas_profiling/profile_report.py:414\u001b[0m, in \u001b[0;36mProfileReport.to_widgets\u001b[0;34m(self)\u001b[0m\n\u001b[1;32m    410\u001b[0m     \u001b[38;5;28;01mpass\u001b[39;00m\n\u001b[1;32m    412\u001b[0m \u001b[38;5;28;01mfrom\u001b[39;00m \u001b[38;5;21;01mIPython\u001b[39;00m\u001b[38;5;21;01m.\u001b[39;00m\u001b[38;5;21;01mcore\u001b[39;00m\u001b[38;5;21;01m.\u001b[39;00m\u001b[38;5;21;01mdisplay\u001b[39;00m \u001b[38;5;28;01mimport\u001b[39;00m display\n\u001b[0;32m--> 414\u001b[0m display(\u001b[38;5;28;43mself\u001b[39;49m\u001b[38;5;241;43m.\u001b[39;49m\u001b[43mwidgets\u001b[49m)\n",
      "File \u001b[0;32m~/miniconda3/envs/mlflow-7382b2b3b1aec80eccfc61e482992a49c43b669d/lib/python3.9/site-packages/pandas_profiling/profile_report.py:197\u001b[0m, in \u001b[0;36mProfileReport.widgets\u001b[0;34m(self)\u001b[0m\n\u001b[1;32m    194\u001b[0m \u001b[38;5;129m@property\u001b[39m\n\u001b[1;32m    195\u001b[0m \u001b[38;5;28;01mdef\u001b[39;00m \u001b[38;5;21mwidgets\u001b[39m(\u001b[38;5;28mself\u001b[39m) \u001b[38;5;241m-\u001b[39m\u001b[38;5;241m>\u001b[39m Renderable:\n\u001b[1;32m    196\u001b[0m     \u001b[38;5;28;01mif\u001b[39;00m \u001b[38;5;28mself\u001b[39m\u001b[38;5;241m.\u001b[39m_widgets \u001b[38;5;129;01mis\u001b[39;00m \u001b[38;5;28;01mNone\u001b[39;00m:\n\u001b[0;32m--> 197\u001b[0m         \u001b[38;5;28mself\u001b[39m\u001b[38;5;241m.\u001b[39m_widgets \u001b[38;5;241m=\u001b[39m \u001b[38;5;28;43mself\u001b[39;49m\u001b[38;5;241;43m.\u001b[39;49m\u001b[43m_render_widgets\u001b[49m\u001b[43m(\u001b[49m\u001b[43m)\u001b[49m\n\u001b[1;32m    198\u001b[0m     \u001b[38;5;28;01mreturn\u001b[39;00m \u001b[38;5;28mself\u001b[39m\u001b[38;5;241m.\u001b[39m_widgets\n",
      "File \u001b[0;32m~/miniconda3/envs/mlflow-7382b2b3b1aec80eccfc61e482992a49c43b669d/lib/python3.9/site-packages/pandas_profiling/profile_report.py:323\u001b[0m, in \u001b[0;36mProfileReport._render_widgets\u001b[0;34m(self)\u001b[0m\n\u001b[1;32m    315\u001b[0m report \u001b[38;5;241m=\u001b[39m \u001b[38;5;28mself\u001b[39m\u001b[38;5;241m.\u001b[39mreport\n\u001b[1;32m    317\u001b[0m \u001b[38;5;28;01mwith\u001b[39;00m tqdm(\n\u001b[1;32m    318\u001b[0m     total\u001b[38;5;241m=\u001b[39m\u001b[38;5;241m1\u001b[39m,\n\u001b[1;32m    319\u001b[0m     desc\u001b[38;5;241m=\u001b[39m\u001b[38;5;124m\"\u001b[39m\u001b[38;5;124mRender widgets\u001b[39m\u001b[38;5;124m\"\u001b[39m,\n\u001b[1;32m    320\u001b[0m     disable\u001b[38;5;241m=\u001b[39m\u001b[38;5;129;01mnot\u001b[39;00m \u001b[38;5;28mself\u001b[39m\u001b[38;5;241m.\u001b[39mconfig\u001b[38;5;241m.\u001b[39mprogress_bar,\n\u001b[1;32m    321\u001b[0m     leave\u001b[38;5;241m=\u001b[39m\u001b[38;5;28;01mFalse\u001b[39;00m,\n\u001b[1;32m    322\u001b[0m ) \u001b[38;5;28;01mas\u001b[39;00m pbar:\n\u001b[0;32m--> 323\u001b[0m     widgets \u001b[38;5;241m=\u001b[39m \u001b[43mWidgetReport\u001b[49m\u001b[43m(\u001b[49m\u001b[43mcopy\u001b[49m\u001b[38;5;241;43m.\u001b[39;49m\u001b[43mdeepcopy\u001b[49m\u001b[43m(\u001b[49m\u001b[43mreport\u001b[49m\u001b[43m)\u001b[49m\u001b[43m)\u001b[49m\u001b[38;5;241;43m.\u001b[39;49m\u001b[43mrender\u001b[49m\u001b[43m(\u001b[49m\u001b[43m)\u001b[49m\n\u001b[1;32m    324\u001b[0m     pbar\u001b[38;5;241m.\u001b[39mupdate()\n\u001b[1;32m    325\u001b[0m \u001b[38;5;28;01mreturn\u001b[39;00m widgets\n",
      "File \u001b[0;32m~/miniconda3/envs/mlflow-7382b2b3b1aec80eccfc61e482992a49c43b669d/lib/python3.9/site-packages/pandas_profiling/report/presentation/flavours/widget/root.py:9\u001b[0m, in \u001b[0;36mWidgetRoot.render\u001b[0;34m(self, **kwargs)\u001b[0m\n\u001b[1;32m      7\u001b[0m \u001b[38;5;28;01mdef\u001b[39;00m \u001b[38;5;21mrender\u001b[39m(\u001b[38;5;28mself\u001b[39m, \u001b[38;5;241m*\u001b[39m\u001b[38;5;241m*\u001b[39mkwargs) \u001b[38;5;241m-\u001b[39m\u001b[38;5;241m>\u001b[39m widgets\u001b[38;5;241m.\u001b[39mVBox:\n\u001b[1;32m      8\u001b[0m     \u001b[38;5;28;01mreturn\u001b[39;00m widgets\u001b[38;5;241m.\u001b[39mVBox(\n\u001b[0;32m----> 9\u001b[0m         [\u001b[38;5;28;43mself\u001b[39;49m\u001b[38;5;241;43m.\u001b[39;49m\u001b[43mcontent\u001b[49m\u001b[43m[\u001b[49m\u001b[38;5;124;43m\"\u001b[39;49m\u001b[38;5;124;43mbody\u001b[39;49m\u001b[38;5;124;43m\"\u001b[39;49m\u001b[43m]\u001b[49m\u001b[38;5;241;43m.\u001b[39;49m\u001b[43mrender\u001b[49m\u001b[43m(\u001b[49m\u001b[43m)\u001b[49m, \u001b[38;5;28mself\u001b[39m\u001b[38;5;241m.\u001b[39mcontent[\u001b[38;5;124m\"\u001b[39m\u001b[38;5;124mfooter\u001b[39m\u001b[38;5;124m\"\u001b[39m]\u001b[38;5;241m.\u001b[39mrender()]\n\u001b[1;32m     10\u001b[0m     )\n",
      "File \u001b[0;32m~/miniconda3/envs/mlflow-7382b2b3b1aec80eccfc61e482992a49c43b669d/lib/python3.9/site-packages/pandas_profiling/report/presentation/flavours/widget/container.py:106\u001b[0m, in \u001b[0;36mWidgetContainer.render\u001b[0;34m(self)\u001b[0m\n\u001b[1;32m    104\u001b[0m     widget \u001b[38;5;241m=\u001b[39m get_named_list(\u001b[38;5;28mself\u001b[39m\u001b[38;5;241m.\u001b[39mcontent[\u001b[38;5;124m\"\u001b[39m\u001b[38;5;124mitems\u001b[39m\u001b[38;5;124m\"\u001b[39m])\n\u001b[1;32m    105\u001b[0m \u001b[38;5;28;01melif\u001b[39;00m \u001b[38;5;28mself\u001b[39m\u001b[38;5;241m.\u001b[39msequence_type \u001b[38;5;129;01min\u001b[39;00m [\u001b[38;5;124m\"\u001b[39m\u001b[38;5;124mtabs\u001b[39m\u001b[38;5;124m\"\u001b[39m, \u001b[38;5;124m\"\u001b[39m\u001b[38;5;124msections\u001b[39m\u001b[38;5;124m\"\u001b[39m, \u001b[38;5;124m\"\u001b[39m\u001b[38;5;124mselect\u001b[39m\u001b[38;5;124m\"\u001b[39m]:\n\u001b[0;32m--> 106\u001b[0m     widget \u001b[38;5;241m=\u001b[39m \u001b[43mget_tabs\u001b[49m\u001b[43m(\u001b[49m\u001b[38;5;28;43mself\u001b[39;49m\u001b[38;5;241;43m.\u001b[39;49m\u001b[43mcontent\u001b[49m\u001b[43m[\u001b[49m\u001b[38;5;124;43m\"\u001b[39;49m\u001b[38;5;124;43mitems\u001b[39;49m\u001b[38;5;124;43m\"\u001b[39;49m\u001b[43m]\u001b[49m\u001b[43m)\u001b[49m\n\u001b[1;32m    107\u001b[0m \u001b[38;5;28;01melif\u001b[39;00m \u001b[38;5;28mself\u001b[39m\u001b[38;5;241m.\u001b[39msequence_type \u001b[38;5;241m==\u001b[39m \u001b[38;5;124m\"\u001b[39m\u001b[38;5;124maccordion\u001b[39m\u001b[38;5;124m\"\u001b[39m:\n\u001b[1;32m    108\u001b[0m     widget \u001b[38;5;241m=\u001b[39m get_accordion(\u001b[38;5;28mself\u001b[39m\u001b[38;5;241m.\u001b[39mcontent[\u001b[38;5;124m\"\u001b[39m\u001b[38;5;124mitems\u001b[39m\u001b[38;5;124m\"\u001b[39m])\n",
      "File \u001b[0;32m~/miniconda3/envs/mlflow-7382b2b3b1aec80eccfc61e482992a49c43b669d/lib/python3.9/site-packages/pandas_profiling/report/presentation/flavours/widget/container.py:20\u001b[0m, in \u001b[0;36mget_tabs\u001b[0;34m(items)\u001b[0m\n\u001b[1;32m     18\u001b[0m titles \u001b[38;5;241m=\u001b[39m []\n\u001b[1;32m     19\u001b[0m \u001b[38;5;28;01mfor\u001b[39;00m item \u001b[38;5;129;01min\u001b[39;00m items:\n\u001b[0;32m---> 20\u001b[0m     children\u001b[38;5;241m.\u001b[39mappend(\u001b[43mitem\u001b[49m\u001b[38;5;241;43m.\u001b[39;49m\u001b[43mrender\u001b[49m\u001b[43m(\u001b[49m\u001b[43m)\u001b[49m)\n\u001b[1;32m     21\u001b[0m     titles\u001b[38;5;241m.\u001b[39mappend(get_name(item))\n\u001b[1;32m     23\u001b[0m tab \u001b[38;5;241m=\u001b[39m widgets\u001b[38;5;241m.\u001b[39mTab()\n",
      "File \u001b[0;32m~/miniconda3/envs/mlflow-7382b2b3b1aec80eccfc61e482992a49c43b669d/lib/python3.9/site-packages/pandas_profiling/report/presentation/flavours/widget/container.py:108\u001b[0m, in \u001b[0;36mWidgetContainer.render\u001b[0;34m(self)\u001b[0m\n\u001b[1;32m    106\u001b[0m     widget \u001b[38;5;241m=\u001b[39m get_tabs(\u001b[38;5;28mself\u001b[39m\u001b[38;5;241m.\u001b[39mcontent[\u001b[38;5;124m\"\u001b[39m\u001b[38;5;124mitems\u001b[39m\u001b[38;5;124m\"\u001b[39m])\n\u001b[1;32m    107\u001b[0m \u001b[38;5;28;01melif\u001b[39;00m \u001b[38;5;28mself\u001b[39m\u001b[38;5;241m.\u001b[39msequence_type \u001b[38;5;241m==\u001b[39m \u001b[38;5;124m\"\u001b[39m\u001b[38;5;124maccordion\u001b[39m\u001b[38;5;124m\"\u001b[39m:\n\u001b[0;32m--> 108\u001b[0m     widget \u001b[38;5;241m=\u001b[39m \u001b[43mget_accordion\u001b[49m\u001b[43m(\u001b[49m\u001b[38;5;28;43mself\u001b[39;49m\u001b[38;5;241;43m.\u001b[39;49m\u001b[43mcontent\u001b[49m\u001b[43m[\u001b[49m\u001b[38;5;124;43m\"\u001b[39;49m\u001b[38;5;124;43mitems\u001b[39;49m\u001b[38;5;124;43m\"\u001b[39;49m\u001b[43m]\u001b[49m\u001b[43m)\u001b[49m\n\u001b[1;32m    109\u001b[0m \u001b[38;5;28;01melif\u001b[39;00m \u001b[38;5;28mself\u001b[39m\u001b[38;5;241m.\u001b[39msequence_type \u001b[38;5;241m==\u001b[39m \u001b[38;5;124m\"\u001b[39m\u001b[38;5;124mgrid\u001b[39m\u001b[38;5;124m\"\u001b[39m:\n\u001b[1;32m    110\u001b[0m     widget \u001b[38;5;241m=\u001b[39m get_row(\u001b[38;5;28mself\u001b[39m\u001b[38;5;241m.\u001b[39mcontent[\u001b[38;5;124m\"\u001b[39m\u001b[38;5;124mitems\u001b[39m\u001b[38;5;124m\"\u001b[39m])\n",
      "File \u001b[0;32m~/miniconda3/envs/mlflow-7382b2b3b1aec80eccfc61e482992a49c43b669d/lib/python3.9/site-packages/pandas_profiling/report/presentation/flavours/widget/container.py:89\u001b[0m, in \u001b[0;36mget_accordion\u001b[0;34m(items)\u001b[0m\n\u001b[1;32m     87\u001b[0m titles \u001b[38;5;241m=\u001b[39m []\n\u001b[1;32m     88\u001b[0m \u001b[38;5;28;01mfor\u001b[39;00m item \u001b[38;5;129;01min\u001b[39;00m items:\n\u001b[0;32m---> 89\u001b[0m     children\u001b[38;5;241m.\u001b[39mappend(\u001b[43mitem\u001b[49m\u001b[38;5;241;43m.\u001b[39;49m\u001b[43mrender\u001b[49m\u001b[43m(\u001b[49m\u001b[43m)\u001b[49m)\n\u001b[1;32m     90\u001b[0m     titles\u001b[38;5;241m.\u001b[39mappend(get_name(item))\n\u001b[1;32m     92\u001b[0m accordion \u001b[38;5;241m=\u001b[39m widgets\u001b[38;5;241m.\u001b[39mAccordion(children\u001b[38;5;241m=\u001b[39mchildren)\n",
      "File \u001b[0;32m~/miniconda3/envs/mlflow-7382b2b3b1aec80eccfc61e482992a49c43b669d/lib/python3.9/site-packages/pandas_profiling/report/presentation/flavours/widget/variable.py:10\u001b[0m, in \u001b[0;36mWidgetVariable.render\u001b[0;34m(self)\u001b[0m\n\u001b[1;32m      8\u001b[0m items \u001b[38;5;241m=\u001b[39m [\u001b[38;5;28mself\u001b[39m\u001b[38;5;241m.\u001b[39mcontent[\u001b[38;5;124m\"\u001b[39m\u001b[38;5;124mtop\u001b[39m\u001b[38;5;124m\"\u001b[39m]\u001b[38;5;241m.\u001b[39mrender()]\n\u001b[1;32m      9\u001b[0m \u001b[38;5;28;01mif\u001b[39;00m \u001b[38;5;28mself\u001b[39m\u001b[38;5;241m.\u001b[39mcontent[\u001b[38;5;124m\"\u001b[39m\u001b[38;5;124mbottom\u001b[39m\u001b[38;5;124m\"\u001b[39m] \u001b[38;5;129;01mis\u001b[39;00m \u001b[38;5;129;01mnot\u001b[39;00m \u001b[38;5;28;01mNone\u001b[39;00m:\n\u001b[0;32m---> 10\u001b[0m     items\u001b[38;5;241m.\u001b[39mappend(\u001b[38;5;28;43mself\u001b[39;49m\u001b[38;5;241;43m.\u001b[39;49m\u001b[43mcontent\u001b[49m\u001b[43m[\u001b[49m\u001b[38;5;124;43m\"\u001b[39;49m\u001b[38;5;124;43mbottom\u001b[39;49m\u001b[38;5;124;43m\"\u001b[39;49m\u001b[43m]\u001b[49m\u001b[38;5;241;43m.\u001b[39;49m\u001b[43mrender\u001b[49m\u001b[43m(\u001b[49m\u001b[43m)\u001b[49m)\n\u001b[1;32m     12\u001b[0m \u001b[38;5;28;01mreturn\u001b[39;00m widgets\u001b[38;5;241m.\u001b[39mVBox(items)\n",
      "File \u001b[0;32m~/miniconda3/envs/mlflow-7382b2b3b1aec80eccfc61e482992a49c43b669d/lib/python3.9/site-packages/pandas_profiling/report/presentation/flavours/widget/collapse.py:14\u001b[0m, in \u001b[0;36mWidgetCollapse.render\u001b[0;34m(self)\u001b[0m\n\u001b[1;32m     11\u001b[0m     collapse \u001b[38;5;241m=\u001b[39m \u001b[38;5;124m\"\u001b[39m\u001b[38;5;124mvariable\u001b[39m\u001b[38;5;124m\"\u001b[39m\n\u001b[1;32m     13\u001b[0m toggle \u001b[38;5;241m=\u001b[39m \u001b[38;5;28mself\u001b[39m\u001b[38;5;241m.\u001b[39mcontent[\u001b[38;5;124m\"\u001b[39m\u001b[38;5;124mbutton\u001b[39m\u001b[38;5;124m\"\u001b[39m]\u001b[38;5;241m.\u001b[39mrender()\n\u001b[0;32m---> 14\u001b[0m item \u001b[38;5;241m=\u001b[39m \u001b[38;5;28;43mself\u001b[39;49m\u001b[38;5;241;43m.\u001b[39;49m\u001b[43mcontent\u001b[49m\u001b[43m[\u001b[49m\u001b[38;5;124;43m\"\u001b[39;49m\u001b[38;5;124;43mitem\u001b[39;49m\u001b[38;5;124;43m\"\u001b[39;49m\u001b[43m]\u001b[49m\u001b[38;5;241;43m.\u001b[39;49m\u001b[43mrender\u001b[49m\u001b[43m(\u001b[49m\u001b[43m)\u001b[49m\n\u001b[1;32m     16\u001b[0m \u001b[38;5;28;01mif\u001b[39;00m collapse \u001b[38;5;241m==\u001b[39m \u001b[38;5;124m\"\u001b[39m\u001b[38;5;124mcorrelation\u001b[39m\u001b[38;5;124m\"\u001b[39m:\n\u001b[1;32m     18\u001b[0m     \u001b[38;5;28;01mdef\u001b[39;00m \u001b[38;5;21mtoggle_func\u001b[39m(widg: \u001b[38;5;28mdict\u001b[39m) \u001b[38;5;241m-\u001b[39m\u001b[38;5;241m>\u001b[39m \u001b[38;5;28;01mNone\u001b[39;00m:\n",
      "File \u001b[0;32m~/miniconda3/envs/mlflow-7382b2b3b1aec80eccfc61e482992a49c43b669d/lib/python3.9/site-packages/pandas_profiling/report/presentation/flavours/widget/container.py:106\u001b[0m, in \u001b[0;36mWidgetContainer.render\u001b[0;34m(self)\u001b[0m\n\u001b[1;32m    104\u001b[0m     widget \u001b[38;5;241m=\u001b[39m get_named_list(\u001b[38;5;28mself\u001b[39m\u001b[38;5;241m.\u001b[39mcontent[\u001b[38;5;124m\"\u001b[39m\u001b[38;5;124mitems\u001b[39m\u001b[38;5;124m\"\u001b[39m])\n\u001b[1;32m    105\u001b[0m \u001b[38;5;28;01melif\u001b[39;00m \u001b[38;5;28mself\u001b[39m\u001b[38;5;241m.\u001b[39msequence_type \u001b[38;5;129;01min\u001b[39;00m [\u001b[38;5;124m\"\u001b[39m\u001b[38;5;124mtabs\u001b[39m\u001b[38;5;124m\"\u001b[39m, \u001b[38;5;124m\"\u001b[39m\u001b[38;5;124msections\u001b[39m\u001b[38;5;124m\"\u001b[39m, \u001b[38;5;124m\"\u001b[39m\u001b[38;5;124mselect\u001b[39m\u001b[38;5;124m\"\u001b[39m]:\n\u001b[0;32m--> 106\u001b[0m     widget \u001b[38;5;241m=\u001b[39m \u001b[43mget_tabs\u001b[49m\u001b[43m(\u001b[49m\u001b[38;5;28;43mself\u001b[39;49m\u001b[38;5;241;43m.\u001b[39;49m\u001b[43mcontent\u001b[49m\u001b[43m[\u001b[49m\u001b[38;5;124;43m\"\u001b[39;49m\u001b[38;5;124;43mitems\u001b[39;49m\u001b[38;5;124;43m\"\u001b[39;49m\u001b[43m]\u001b[49m\u001b[43m)\u001b[49m\n\u001b[1;32m    107\u001b[0m \u001b[38;5;28;01melif\u001b[39;00m \u001b[38;5;28mself\u001b[39m\u001b[38;5;241m.\u001b[39msequence_type \u001b[38;5;241m==\u001b[39m \u001b[38;5;124m\"\u001b[39m\u001b[38;5;124maccordion\u001b[39m\u001b[38;5;124m\"\u001b[39m:\n\u001b[1;32m    108\u001b[0m     widget \u001b[38;5;241m=\u001b[39m get_accordion(\u001b[38;5;28mself\u001b[39m\u001b[38;5;241m.\u001b[39mcontent[\u001b[38;5;124m\"\u001b[39m\u001b[38;5;124mitems\u001b[39m\u001b[38;5;124m\"\u001b[39m])\n",
      "File \u001b[0;32m~/miniconda3/envs/mlflow-7382b2b3b1aec80eccfc61e482992a49c43b669d/lib/python3.9/site-packages/pandas_profiling/report/presentation/flavours/widget/container.py:20\u001b[0m, in \u001b[0;36mget_tabs\u001b[0;34m(items)\u001b[0m\n\u001b[1;32m     18\u001b[0m titles \u001b[38;5;241m=\u001b[39m []\n\u001b[1;32m     19\u001b[0m \u001b[38;5;28;01mfor\u001b[39;00m item \u001b[38;5;129;01min\u001b[39;00m items:\n\u001b[0;32m---> 20\u001b[0m     children\u001b[38;5;241m.\u001b[39mappend(\u001b[43mitem\u001b[49m\u001b[38;5;241;43m.\u001b[39;49m\u001b[43mrender\u001b[49m\u001b[43m(\u001b[49m\u001b[43m)\u001b[49m)\n\u001b[1;32m     21\u001b[0m     titles\u001b[38;5;241m.\u001b[39mappend(get_name(item))\n\u001b[1;32m     23\u001b[0m tab \u001b[38;5;241m=\u001b[39m widgets\u001b[38;5;241m.\u001b[39mTab()\n",
      "File \u001b[0;32m~/miniconda3/envs/mlflow-7382b2b3b1aec80eccfc61e482992a49c43b669d/lib/python3.9/site-packages/pandas_profiling/report/presentation/flavours/widget/container.py:110\u001b[0m, in \u001b[0;36mWidgetContainer.render\u001b[0;34m(self)\u001b[0m\n\u001b[1;32m    108\u001b[0m     widget \u001b[38;5;241m=\u001b[39m get_accordion(\u001b[38;5;28mself\u001b[39m\u001b[38;5;241m.\u001b[39mcontent[\u001b[38;5;124m\"\u001b[39m\u001b[38;5;124mitems\u001b[39m\u001b[38;5;124m\"\u001b[39m])\n\u001b[1;32m    109\u001b[0m \u001b[38;5;28;01melif\u001b[39;00m \u001b[38;5;28mself\u001b[39m\u001b[38;5;241m.\u001b[39msequence_type \u001b[38;5;241m==\u001b[39m \u001b[38;5;124m\"\u001b[39m\u001b[38;5;124mgrid\u001b[39m\u001b[38;5;124m\"\u001b[39m:\n\u001b[0;32m--> 110\u001b[0m     widget \u001b[38;5;241m=\u001b[39m \u001b[43mget_row\u001b[49m\u001b[43m(\u001b[49m\u001b[38;5;28;43mself\u001b[39;49m\u001b[38;5;241;43m.\u001b[39;49m\u001b[43mcontent\u001b[49m\u001b[43m[\u001b[49m\u001b[38;5;124;43m\"\u001b[39;49m\u001b[38;5;124;43mitems\u001b[39;49m\u001b[38;5;124;43m\"\u001b[39;49m\u001b[43m]\u001b[49m\u001b[43m)\u001b[49m\n\u001b[1;32m    111\u001b[0m \u001b[38;5;28;01melif\u001b[39;00m \u001b[38;5;28mself\u001b[39m\u001b[38;5;241m.\u001b[39msequence_type \u001b[38;5;241m==\u001b[39m \u001b[38;5;124m\"\u001b[39m\u001b[38;5;124mbatch_grid\u001b[39m\u001b[38;5;124m\"\u001b[39m:\n\u001b[1;32m    112\u001b[0m     widget \u001b[38;5;241m=\u001b[39m get_batch_grid(\n\u001b[1;32m    113\u001b[0m         \u001b[38;5;28mself\u001b[39m\u001b[38;5;241m.\u001b[39mcontent[\u001b[38;5;124m\"\u001b[39m\u001b[38;5;124mitems\u001b[39m\u001b[38;5;124m\"\u001b[39m],\n\u001b[1;32m    114\u001b[0m         \u001b[38;5;28mself\u001b[39m\u001b[38;5;241m.\u001b[39mcontent[\u001b[38;5;124m\"\u001b[39m\u001b[38;5;124mbatch_size\u001b[39m\u001b[38;5;124m\"\u001b[39m],\n\u001b[1;32m    115\u001b[0m         \u001b[38;5;28mself\u001b[39m\u001b[38;5;241m.\u001b[39mcontent\u001b[38;5;241m.\u001b[39mget(\u001b[38;5;124m\"\u001b[39m\u001b[38;5;124mtitles\u001b[39m\u001b[38;5;124m\"\u001b[39m, \u001b[38;5;28;01mTrue\u001b[39;00m),\n\u001b[1;32m    116\u001b[0m         \u001b[38;5;28mself\u001b[39m\u001b[38;5;241m.\u001b[39mcontent\u001b[38;5;241m.\u001b[39mget(\u001b[38;5;124m\"\u001b[39m\u001b[38;5;124msubtitles\u001b[39m\u001b[38;5;124m\"\u001b[39m, \u001b[38;5;28;01mFalse\u001b[39;00m),\n\u001b[1;32m    117\u001b[0m     )\n",
      "File \u001b[0;32m~/miniconda3/envs/mlflow-7382b2b3b1aec80eccfc61e482992a49c43b669d/lib/python3.9/site-packages/pandas_profiling/report/presentation/flavours/widget/container.py:57\u001b[0m, in \u001b[0;36mget_row\u001b[0;34m(items)\u001b[0m\n\u001b[1;32m     54\u001b[0m \u001b[38;5;28;01melse\u001b[39;00m:\n\u001b[1;32m     55\u001b[0m     \u001b[38;5;28;01mraise\u001b[39;00m \u001b[38;5;167;01mValueError\u001b[39;00m(\u001b[38;5;124m\"\u001b[39m\u001b[38;5;124mLayout undefined for this number of columns\u001b[39m\u001b[38;5;124m\"\u001b[39m)\n\u001b[0;32m---> 57\u001b[0m \u001b[38;5;28;01mreturn\u001b[39;00m widgets\u001b[38;5;241m.\u001b[39mGridBox([item\u001b[38;5;241m.\u001b[39mrender() \u001b[38;5;28;01mfor\u001b[39;00m item \u001b[38;5;129;01min\u001b[39;00m items], layout\u001b[38;5;241m=\u001b[39mlayout)\n",
      "File \u001b[0;32m~/miniconda3/envs/mlflow-7382b2b3b1aec80eccfc61e482992a49c43b669d/lib/python3.9/site-packages/pandas_profiling/report/presentation/flavours/widget/container.py:57\u001b[0m, in \u001b[0;36m<listcomp>\u001b[0;34m(.0)\u001b[0m\n\u001b[1;32m     54\u001b[0m \u001b[38;5;28;01melse\u001b[39;00m:\n\u001b[1;32m     55\u001b[0m     \u001b[38;5;28;01mraise\u001b[39;00m \u001b[38;5;167;01mValueError\u001b[39;00m(\u001b[38;5;124m\"\u001b[39m\u001b[38;5;124mLayout undefined for this number of columns\u001b[39m\u001b[38;5;124m\"\u001b[39m)\n\u001b[0;32m---> 57\u001b[0m \u001b[38;5;28;01mreturn\u001b[39;00m widgets\u001b[38;5;241m.\u001b[39mGridBox([\u001b[43mitem\u001b[49m\u001b[38;5;241;43m.\u001b[39;49m\u001b[43mrender\u001b[49m\u001b[43m(\u001b[49m\u001b[43m)\u001b[49m \u001b[38;5;28;01mfor\u001b[39;00m item \u001b[38;5;129;01min\u001b[39;00m items], layout\u001b[38;5;241m=\u001b[39mlayout)\n",
      "File \u001b[0;32m~/miniconda3/envs/mlflow-7382b2b3b1aec80eccfc61e482992a49c43b669d/lib/python3.9/site-packages/pandas_profiling/report/presentation/flavours/widget/container.py:106\u001b[0m, in \u001b[0;36mWidgetContainer.render\u001b[0;34m(self)\u001b[0m\n\u001b[1;32m    104\u001b[0m     widget \u001b[38;5;241m=\u001b[39m get_named_list(\u001b[38;5;28mself\u001b[39m\u001b[38;5;241m.\u001b[39mcontent[\u001b[38;5;124m\"\u001b[39m\u001b[38;5;124mitems\u001b[39m\u001b[38;5;124m\"\u001b[39m])\n\u001b[1;32m    105\u001b[0m \u001b[38;5;28;01melif\u001b[39;00m \u001b[38;5;28mself\u001b[39m\u001b[38;5;241m.\u001b[39msequence_type \u001b[38;5;129;01min\u001b[39;00m [\u001b[38;5;124m\"\u001b[39m\u001b[38;5;124mtabs\u001b[39m\u001b[38;5;124m\"\u001b[39m, \u001b[38;5;124m\"\u001b[39m\u001b[38;5;124msections\u001b[39m\u001b[38;5;124m\"\u001b[39m, \u001b[38;5;124m\"\u001b[39m\u001b[38;5;124mselect\u001b[39m\u001b[38;5;124m\"\u001b[39m]:\n\u001b[0;32m--> 106\u001b[0m     widget \u001b[38;5;241m=\u001b[39m \u001b[43mget_tabs\u001b[49m\u001b[43m(\u001b[49m\u001b[38;5;28;43mself\u001b[39;49m\u001b[38;5;241;43m.\u001b[39;49m\u001b[43mcontent\u001b[49m\u001b[43m[\u001b[49m\u001b[38;5;124;43m\"\u001b[39;49m\u001b[38;5;124;43mitems\u001b[39;49m\u001b[38;5;124;43m\"\u001b[39;49m\u001b[43m]\u001b[49m\u001b[43m)\u001b[49m\n\u001b[1;32m    107\u001b[0m \u001b[38;5;28;01melif\u001b[39;00m \u001b[38;5;28mself\u001b[39m\u001b[38;5;241m.\u001b[39msequence_type \u001b[38;5;241m==\u001b[39m \u001b[38;5;124m\"\u001b[39m\u001b[38;5;124maccordion\u001b[39m\u001b[38;5;124m\"\u001b[39m:\n\u001b[1;32m    108\u001b[0m     widget \u001b[38;5;241m=\u001b[39m get_accordion(\u001b[38;5;28mself\u001b[39m\u001b[38;5;241m.\u001b[39mcontent[\u001b[38;5;124m\"\u001b[39m\u001b[38;5;124mitems\u001b[39m\u001b[38;5;124m\"\u001b[39m])\n",
      "File \u001b[0;32m~/miniconda3/envs/mlflow-7382b2b3b1aec80eccfc61e482992a49c43b669d/lib/python3.9/site-packages/pandas_profiling/report/presentation/flavours/widget/container.py:20\u001b[0m, in \u001b[0;36mget_tabs\u001b[0;34m(items)\u001b[0m\n\u001b[1;32m     18\u001b[0m titles \u001b[38;5;241m=\u001b[39m []\n\u001b[1;32m     19\u001b[0m \u001b[38;5;28;01mfor\u001b[39;00m item \u001b[38;5;129;01min\u001b[39;00m items:\n\u001b[0;32m---> 20\u001b[0m     children\u001b[38;5;241m.\u001b[39mappend(\u001b[43mitem\u001b[49m\u001b[38;5;241;43m.\u001b[39;49m\u001b[43mrender\u001b[49m\u001b[43m(\u001b[49m\u001b[43m)\u001b[49m)\n\u001b[1;32m     21\u001b[0m     titles\u001b[38;5;241m.\u001b[39mappend(get_name(item))\n\u001b[1;32m     23\u001b[0m tab \u001b[38;5;241m=\u001b[39m widgets\u001b[38;5;241m.\u001b[39mTab()\n",
      "File \u001b[0;32m~/miniconda3/envs/mlflow-7382b2b3b1aec80eccfc61e482992a49c43b669d/lib/python3.9/site-packages/pandas_profiling/report/presentation/flavours/widget/container.py:104\u001b[0m, in \u001b[0;36mWidgetContainer.render\u001b[0;34m(self)\u001b[0m\n\u001b[1;32m    102\u001b[0m     widget \u001b[38;5;241m=\u001b[39m get_list(\u001b[38;5;28mself\u001b[39m\u001b[38;5;241m.\u001b[39mcontent[\u001b[38;5;124m\"\u001b[39m\u001b[38;5;124mitems\u001b[39m\u001b[38;5;124m\"\u001b[39m])\n\u001b[1;32m    103\u001b[0m \u001b[38;5;28;01melif\u001b[39;00m \u001b[38;5;28mself\u001b[39m\u001b[38;5;241m.\u001b[39msequence_type \u001b[38;5;241m==\u001b[39m \u001b[38;5;124m\"\u001b[39m\u001b[38;5;124mnamed_list\u001b[39m\u001b[38;5;124m\"\u001b[39m:\n\u001b[0;32m--> 104\u001b[0m     widget \u001b[38;5;241m=\u001b[39m \u001b[43mget_named_list\u001b[49m\u001b[43m(\u001b[49m\u001b[38;5;28;43mself\u001b[39;49m\u001b[38;5;241;43m.\u001b[39;49m\u001b[43mcontent\u001b[49m\u001b[43m[\u001b[49m\u001b[38;5;124;43m\"\u001b[39;49m\u001b[38;5;124;43mitems\u001b[39;49m\u001b[38;5;124;43m\"\u001b[39;49m\u001b[43m]\u001b[49m\u001b[43m)\u001b[49m\n\u001b[1;32m    105\u001b[0m \u001b[38;5;28;01melif\u001b[39;00m \u001b[38;5;28mself\u001b[39m\u001b[38;5;241m.\u001b[39msequence_type \u001b[38;5;129;01min\u001b[39;00m [\u001b[38;5;124m\"\u001b[39m\u001b[38;5;124mtabs\u001b[39m\u001b[38;5;124m\"\u001b[39m, \u001b[38;5;124m\"\u001b[39m\u001b[38;5;124msections\u001b[39m\u001b[38;5;124m\"\u001b[39m, \u001b[38;5;124m\"\u001b[39m\u001b[38;5;124mselect\u001b[39m\u001b[38;5;124m\"\u001b[39m]:\n\u001b[1;32m    106\u001b[0m     widget \u001b[38;5;241m=\u001b[39m get_tabs(\u001b[38;5;28mself\u001b[39m\u001b[38;5;241m.\u001b[39mcontent[\u001b[38;5;124m\"\u001b[39m\u001b[38;5;124mitems\u001b[39m\u001b[38;5;124m\"\u001b[39m])\n",
      "File \u001b[0;32m~/miniconda3/envs/mlflow-7382b2b3b1aec80eccfc61e482992a49c43b669d/lib/python3.9/site-packages/pandas_profiling/report/presentation/flavours/widget/container.py:36\u001b[0m, in \u001b[0;36mget_named_list\u001b[0;34m(items)\u001b[0m\n\u001b[1;32m     34\u001b[0m \u001b[38;5;28;01mdef\u001b[39;00m \u001b[38;5;21mget_named_list\u001b[39m(items: List[Renderable]) \u001b[38;5;241m-\u001b[39m\u001b[38;5;241m>\u001b[39m widgets\u001b[38;5;241m.\u001b[39mVBox:\n\u001b[1;32m     35\u001b[0m     \u001b[38;5;28;01mreturn\u001b[39;00m widgets\u001b[38;5;241m.\u001b[39mVBox(\n\u001b[0;32m---> 36\u001b[0m         [\n\u001b[1;32m     37\u001b[0m             widgets\u001b[38;5;241m.\u001b[39mVBox(\n\u001b[1;32m     38\u001b[0m                 [widgets\u001b[38;5;241m.\u001b[39mHTML(\u001b[38;5;124mf\u001b[39m\u001b[38;5;124m\"\u001b[39m\u001b[38;5;124m<strong>\u001b[39m\u001b[38;5;132;01m{\u001b[39;00mget_name(item)\u001b[38;5;132;01m}\u001b[39;00m\u001b[38;5;124m</strong>\u001b[39m\u001b[38;5;124m\"\u001b[39m), item\u001b[38;5;241m.\u001b[39mrender()]\n\u001b[1;32m     39\u001b[0m             )\n\u001b[1;32m     40\u001b[0m             \u001b[38;5;28;01mfor\u001b[39;00m item \u001b[38;5;129;01min\u001b[39;00m items\n\u001b[1;32m     41\u001b[0m         ]\n\u001b[1;32m     42\u001b[0m     )\n",
      "File \u001b[0;32m~/miniconda3/envs/mlflow-7382b2b3b1aec80eccfc61e482992a49c43b669d/lib/python3.9/site-packages/pandas_profiling/report/presentation/flavours/widget/container.py:38\u001b[0m, in \u001b[0;36m<listcomp>\u001b[0;34m(.0)\u001b[0m\n\u001b[1;32m     34\u001b[0m \u001b[38;5;28;01mdef\u001b[39;00m \u001b[38;5;21mget_named_list\u001b[39m(items: List[Renderable]) \u001b[38;5;241m-\u001b[39m\u001b[38;5;241m>\u001b[39m widgets\u001b[38;5;241m.\u001b[39mVBox:\n\u001b[1;32m     35\u001b[0m     \u001b[38;5;28;01mreturn\u001b[39;00m widgets\u001b[38;5;241m.\u001b[39mVBox(\n\u001b[1;32m     36\u001b[0m         [\n\u001b[1;32m     37\u001b[0m             widgets\u001b[38;5;241m.\u001b[39mVBox(\n\u001b[0;32m---> 38\u001b[0m                 [widgets\u001b[38;5;241m.\u001b[39mHTML(\u001b[38;5;124mf\u001b[39m\u001b[38;5;124m\"\u001b[39m\u001b[38;5;124m<strong>\u001b[39m\u001b[38;5;132;01m{\u001b[39;00mget_name(item)\u001b[38;5;132;01m}\u001b[39;00m\u001b[38;5;124m</strong>\u001b[39m\u001b[38;5;124m\"\u001b[39m), \u001b[43mitem\u001b[49m\u001b[38;5;241;43m.\u001b[39;49m\u001b[43mrender\u001b[49m\u001b[43m(\u001b[49m\u001b[43m)\u001b[49m]\n\u001b[1;32m     39\u001b[0m             )\n\u001b[1;32m     40\u001b[0m             \u001b[38;5;28;01mfor\u001b[39;00m item \u001b[38;5;129;01min\u001b[39;00m items\n\u001b[1;32m     41\u001b[0m         ]\n\u001b[1;32m     42\u001b[0m     )\n",
      "File \u001b[0;32m~/miniconda3/envs/mlflow-7382b2b3b1aec80eccfc61e482992a49c43b669d/lib/python3.9/site-packages/pandas_profiling/report/presentation/flavours/widget/frequency_table.py:56\u001b[0m, in \u001b[0;36mWidgetFrequencyTable.render\u001b[0;34m(self)\u001b[0m\n\u001b[1;32m     45\u001b[0m     \u001b[38;5;28;01melse\u001b[39;00m:\n\u001b[1;32m     46\u001b[0m         items\u001b[38;5;241m.\u001b[39mappend(\n\u001b[1;32m     47\u001b[0m             (\n\u001b[1;32m     48\u001b[0m                 widgets\u001b[38;5;241m.\u001b[39mLabel(\u001b[38;5;28mstr\u001b[39m(row[\u001b[38;5;124m\"\u001b[39m\u001b[38;5;124mlabel\u001b[39m\u001b[38;5;124m\"\u001b[39m])),\n\u001b[0;32m   (...)\u001b[0m\n\u001b[1;32m     53\u001b[0m             )\n\u001b[1;32m     54\u001b[0m         )\n\u001b[0;32m---> 56\u001b[0m \u001b[38;5;28;01mreturn\u001b[39;00m \u001b[43mget_table\u001b[49m\u001b[43m(\u001b[49m\u001b[43mitems\u001b[49m\u001b[43m)\u001b[49m\n",
      "File \u001b[0;32m~/miniconda3/envs/mlflow-7382b2b3b1aec80eccfc61e482992a49c43b669d/lib/python3.9/site-packages/pandas_profiling/report/presentation/flavours/widget/frequency_table.py:11\u001b[0m, in \u001b[0;36mget_table\u001b[0;34m(items)\u001b[0m\n\u001b[1;32m      8\u001b[0m \u001b[38;5;28;01mdef\u001b[39;00m \u001b[38;5;21mget_table\u001b[39m(\n\u001b[1;32m      9\u001b[0m     items: List[Tuple[widgets\u001b[38;5;241m.\u001b[39mLabel, widgets\u001b[38;5;241m.\u001b[39mFloatProgress, widgets\u001b[38;5;241m.\u001b[39mLabel]]\n\u001b[1;32m     10\u001b[0m ) \u001b[38;5;241m-\u001b[39m\u001b[38;5;241m>\u001b[39m VBox:\n\u001b[0;32m---> 11\u001b[0m     table \u001b[38;5;241m=\u001b[39m \u001b[43mGridspecLayout\u001b[49m\u001b[43m(\u001b[49m\u001b[38;5;28;43mlen\u001b[39;49m\u001b[43m(\u001b[49m\u001b[43mitems\u001b[49m\u001b[43m)\u001b[49m\u001b[43m,\u001b[49m\u001b[43m \u001b[49m\u001b[38;5;241;43m3\u001b[39;49m\u001b[43m)\u001b[49m\n\u001b[1;32m     12\u001b[0m     \u001b[38;5;28;01mfor\u001b[39;00m row_id, (label, progress, count) \u001b[38;5;129;01min\u001b[39;00m \u001b[38;5;28menumerate\u001b[39m(items):\n\u001b[1;32m     13\u001b[0m         table[row_id, \u001b[38;5;241m0\u001b[39m] \u001b[38;5;241m=\u001b[39m label\n",
      "File \u001b[0;32m~/miniconda3/envs/mlflow-7382b2b3b1aec80eccfc61e482992a49c43b669d/lib/python3.9/site-packages/ipywidgets/widgets/widget_templates.py:282\u001b[0m, in \u001b[0;36mGridspecLayout.__init__\u001b[0;34m(self, n_rows, n_columns, **kwargs)\u001b[0m\n\u001b[1;32m    280\u001b[0m \u001b[38;5;28;01mdef\u001b[39;00m \u001b[38;5;21m__init__\u001b[39m(\u001b[38;5;28mself\u001b[39m, n_rows\u001b[38;5;241m=\u001b[39m\u001b[38;5;28;01mNone\u001b[39;00m, n_columns\u001b[38;5;241m=\u001b[39m\u001b[38;5;28;01mNone\u001b[39;00m, \u001b[38;5;241m*\u001b[39m\u001b[38;5;241m*\u001b[39mkwargs):\n\u001b[1;32m    281\u001b[0m     \u001b[38;5;28msuper\u001b[39m()\u001b[38;5;241m.\u001b[39m\u001b[38;5;21m__init__\u001b[39m(\u001b[38;5;241m*\u001b[39m\u001b[38;5;241m*\u001b[39mkwargs)\n\u001b[0;32m--> 282\u001b[0m     \u001b[38;5;28;43mself\u001b[39;49m\u001b[38;5;241;43m.\u001b[39;49m\u001b[43mn_rows\u001b[49m \u001b[38;5;241m=\u001b[39m n_rows\n\u001b[1;32m    283\u001b[0m     \u001b[38;5;28mself\u001b[39m\u001b[38;5;241m.\u001b[39mn_columns \u001b[38;5;241m=\u001b[39m n_columns\n\u001b[1;32m    284\u001b[0m     \u001b[38;5;28mself\u001b[39m\u001b[38;5;241m.\u001b[39m_grid_template_areas \u001b[38;5;241m=\u001b[39m [[\u001b[38;5;124m'\u001b[39m\u001b[38;5;124m.\u001b[39m\u001b[38;5;124m'\u001b[39m] \u001b[38;5;241m*\u001b[39m \u001b[38;5;28mself\u001b[39m\u001b[38;5;241m.\u001b[39mn_columns \u001b[38;5;28;01mfor\u001b[39;00m i \u001b[38;5;129;01min\u001b[39;00m \u001b[38;5;28mrange\u001b[39m(\u001b[38;5;28mself\u001b[39m\u001b[38;5;241m.\u001b[39mn_rows)]\n",
      "File \u001b[0;32m~/miniconda3/envs/mlflow-7382b2b3b1aec80eccfc61e482992a49c43b669d/lib/python3.9/site-packages/traitlets/traitlets.py:732\u001b[0m, in \u001b[0;36mTraitType.__set__\u001b[0;34m(self, obj, value)\u001b[0m\n\u001b[1;32m    730\u001b[0m     \u001b[38;5;28;01mraise\u001b[39;00m TraitError(\u001b[38;5;124m'\u001b[39m\u001b[38;5;124mThe \u001b[39m\u001b[38;5;124m\"\u001b[39m\u001b[38;5;132;01m%s\u001b[39;00m\u001b[38;5;124m\"\u001b[39m\u001b[38;5;124m trait is read-only.\u001b[39m\u001b[38;5;124m'\u001b[39m \u001b[38;5;241m%\u001b[39m \u001b[38;5;28mself\u001b[39m\u001b[38;5;241m.\u001b[39mname)\n\u001b[1;32m    731\u001b[0m \u001b[38;5;28;01melse\u001b[39;00m:\n\u001b[0;32m--> 732\u001b[0m     \u001b[38;5;28;43mself\u001b[39;49m\u001b[38;5;241;43m.\u001b[39;49m\u001b[43mset\u001b[49m\u001b[43m(\u001b[49m\u001b[43mobj\u001b[49m\u001b[43m,\u001b[49m\u001b[43m \u001b[49m\u001b[43mvalue\u001b[49m\u001b[43m)\u001b[49m\n",
      "File \u001b[0;32m~/miniconda3/envs/mlflow-7382b2b3b1aec80eccfc61e482992a49c43b669d/lib/python3.9/site-packages/traitlets/traitlets.py:706\u001b[0m, in \u001b[0;36mTraitType.set\u001b[0;34m(self, obj, value)\u001b[0m\n\u001b[1;32m    705\u001b[0m \u001b[38;5;28;01mdef\u001b[39;00m \u001b[38;5;21mset\u001b[39m(\u001b[38;5;28mself\u001b[39m, obj, value):\n\u001b[0;32m--> 706\u001b[0m     new_value \u001b[38;5;241m=\u001b[39m \u001b[38;5;28;43mself\u001b[39;49m\u001b[38;5;241;43m.\u001b[39;49m\u001b[43m_validate\u001b[49m\u001b[43m(\u001b[49m\u001b[43mobj\u001b[49m\u001b[43m,\u001b[49m\u001b[43m \u001b[49m\u001b[43mvalue\u001b[49m\u001b[43m)\u001b[49m\n\u001b[1;32m    707\u001b[0m     \u001b[38;5;28;01mtry\u001b[39;00m:\n\u001b[1;32m    708\u001b[0m         old_value \u001b[38;5;241m=\u001b[39m obj\u001b[38;5;241m.\u001b[39m_trait_values[\u001b[38;5;28mself\u001b[39m\u001b[38;5;241m.\u001b[39mname]\n",
      "File \u001b[0;32m~/miniconda3/envs/mlflow-7382b2b3b1aec80eccfc61e482992a49c43b669d/lib/python3.9/site-packages/traitlets/traitlets.py:740\u001b[0m, in \u001b[0;36mTraitType._validate\u001b[0;34m(self, obj, value)\u001b[0m\n\u001b[1;32m    738\u001b[0m     value \u001b[38;5;241m=\u001b[39m \u001b[38;5;28mself\u001b[39m\u001b[38;5;241m.\u001b[39mvalidate(obj, value)\n\u001b[1;32m    739\u001b[0m \u001b[38;5;28;01mif\u001b[39;00m obj\u001b[38;5;241m.\u001b[39m_cross_validation_lock \u001b[38;5;129;01mis\u001b[39;00m \u001b[38;5;28;01mFalse\u001b[39;00m:\n\u001b[0;32m--> 740\u001b[0m     value \u001b[38;5;241m=\u001b[39m \u001b[38;5;28;43mself\u001b[39;49m\u001b[38;5;241;43m.\u001b[39;49m\u001b[43m_cross_validate\u001b[49m\u001b[43m(\u001b[49m\u001b[43mobj\u001b[49m\u001b[43m,\u001b[49m\u001b[43m \u001b[49m\u001b[43mvalue\u001b[49m\u001b[43m)\u001b[49m\n\u001b[1;32m    741\u001b[0m \u001b[38;5;28;01mreturn\u001b[39;00m value\n",
      "File \u001b[0;32m~/miniconda3/envs/mlflow-7382b2b3b1aec80eccfc61e482992a49c43b669d/lib/python3.9/site-packages/traitlets/traitlets.py:746\u001b[0m, in \u001b[0;36mTraitType._cross_validate\u001b[0;34m(self, obj, value)\u001b[0m\n\u001b[1;32m    744\u001b[0m \u001b[38;5;28;01mif\u001b[39;00m \u001b[38;5;28mself\u001b[39m\u001b[38;5;241m.\u001b[39mname \u001b[38;5;129;01min\u001b[39;00m obj\u001b[38;5;241m.\u001b[39m_trait_validators:\n\u001b[1;32m    745\u001b[0m     proposal \u001b[38;5;241m=\u001b[39m Bunch({\u001b[38;5;124m\"\u001b[39m\u001b[38;5;124mtrait\u001b[39m\u001b[38;5;124m\"\u001b[39m: \u001b[38;5;28mself\u001b[39m, \u001b[38;5;124m\"\u001b[39m\u001b[38;5;124mvalue\u001b[39m\u001b[38;5;124m\"\u001b[39m: value, \u001b[38;5;124m\"\u001b[39m\u001b[38;5;124mowner\u001b[39m\u001b[38;5;124m\"\u001b[39m: obj})\n\u001b[0;32m--> 746\u001b[0m     value \u001b[38;5;241m=\u001b[39m \u001b[43mobj\u001b[49m\u001b[38;5;241;43m.\u001b[39;49m\u001b[43m_trait_validators\u001b[49m\u001b[43m[\u001b[49m\u001b[38;5;28;43mself\u001b[39;49m\u001b[38;5;241;43m.\u001b[39;49m\u001b[43mname\u001b[49m\u001b[43m]\u001b[49m\u001b[43m(\u001b[49m\u001b[43mobj\u001b[49m\u001b[43m,\u001b[49m\u001b[43m \u001b[49m\u001b[43mproposal\u001b[49m\u001b[43m)\u001b[49m\n\u001b[1;32m    747\u001b[0m \u001b[38;5;28;01melif\u001b[39;00m \u001b[38;5;28mhasattr\u001b[39m(obj, \u001b[38;5;124m\"\u001b[39m\u001b[38;5;124m_\u001b[39m\u001b[38;5;132;01m%s\u001b[39;00m\u001b[38;5;124m_validate\u001b[39m\u001b[38;5;124m\"\u001b[39m \u001b[38;5;241m%\u001b[39m \u001b[38;5;28mself\u001b[39m\u001b[38;5;241m.\u001b[39mname):\n\u001b[1;32m    748\u001b[0m     meth_name \u001b[38;5;241m=\u001b[39m \u001b[38;5;124m\"\u001b[39m\u001b[38;5;124m_\u001b[39m\u001b[38;5;132;01m%s\u001b[39;00m\u001b[38;5;124m_validate\u001b[39m\u001b[38;5;124m\"\u001b[39m \u001b[38;5;241m%\u001b[39m \u001b[38;5;28mself\u001b[39m\u001b[38;5;241m.\u001b[39mname\n",
      "File \u001b[0;32m~/miniconda3/envs/mlflow-7382b2b3b1aec80eccfc61e482992a49c43b669d/lib/python3.9/site-packages/traitlets/traitlets.py:1232\u001b[0m, in \u001b[0;36mEventHandler.__call__\u001b[0;34m(self, *args, **kwargs)\u001b[0m\n\u001b[1;32m   1230\u001b[0m \u001b[38;5;250m\u001b[39m\u001b[38;5;124;03m\"\"\"Pass `*args` and `**kwargs` to the handler's function if it exists.\"\"\"\u001b[39;00m\n\u001b[1;32m   1231\u001b[0m \u001b[38;5;28;01mif\u001b[39;00m \u001b[38;5;28mhasattr\u001b[39m(\u001b[38;5;28mself\u001b[39m, \u001b[38;5;124m\"\u001b[39m\u001b[38;5;124mfunc\u001b[39m\u001b[38;5;124m\"\u001b[39m):\n\u001b[0;32m-> 1232\u001b[0m     \u001b[38;5;28;01mreturn\u001b[39;00m \u001b[38;5;28;43mself\u001b[39;49m\u001b[38;5;241;43m.\u001b[39;49m\u001b[43mfunc\u001b[49m\u001b[43m(\u001b[49m\u001b[38;5;241;43m*\u001b[39;49m\u001b[43margs\u001b[49m\u001b[43m,\u001b[49m\u001b[43m \u001b[49m\u001b[38;5;241;43m*\u001b[39;49m\u001b[38;5;241;43m*\u001b[39;49m\u001b[43mkwargs\u001b[49m\u001b[43m)\u001b[49m\n\u001b[1;32m   1233\u001b[0m \u001b[38;5;28;01melse\u001b[39;00m:\n\u001b[1;32m   1234\u001b[0m     \u001b[38;5;28;01mreturn\u001b[39;00m \u001b[38;5;28mself\u001b[39m\u001b[38;5;241m.\u001b[39m_init_call(\u001b[38;5;241m*\u001b[39margs, \u001b[38;5;241m*\u001b[39m\u001b[38;5;241m*\u001b[39mkwargs)\n",
      "File \u001b[0;32m~/miniconda3/envs/mlflow-7382b2b3b1aec80eccfc61e482992a49c43b669d/lib/python3.9/site-packages/ipywidgets/widgets/widget_templates.py:295\u001b[0m, in \u001b[0;36mGridspecLayout._validate_integer\u001b[0;34m(self, proposal)\u001b[0m\n\u001b[1;32m    293\u001b[0m \u001b[38;5;28;01mif\u001b[39;00m proposal[\u001b[38;5;124m'\u001b[39m\u001b[38;5;124mvalue\u001b[39m\u001b[38;5;124m'\u001b[39m] \u001b[38;5;241m>\u001b[39m \u001b[38;5;241m0\u001b[39m:\n\u001b[1;32m    294\u001b[0m     \u001b[38;5;28;01mreturn\u001b[39;00m proposal[\u001b[38;5;124m'\u001b[39m\u001b[38;5;124mvalue\u001b[39m\u001b[38;5;124m'\u001b[39m]\n\u001b[0;32m--> 295\u001b[0m \u001b[38;5;28;01mraise\u001b[39;00m TraitError(\u001b[38;5;124m'\u001b[39m\u001b[38;5;124mn_rows and n_columns must be positive integer\u001b[39m\u001b[38;5;124m'\u001b[39m)\n",
      "\u001b[0;31mTraitError\u001b[0m: n_rows and n_columns must be positive integer"
     ]
    }
   ],
   "source": [
    "import pandas_profiling\n",
    "\n",
    "profile = pandas_profiling.ProfileReport(df)\n",
    "profile"
   ]
  },
  {
   "cell_type": "markdown",
   "id": "8ccc97e6",
   "metadata": {},
   "source": [
    "fix the problems"
   ]
  },
  {
   "cell_type": "code",
   "execution_count": 5,
   "id": "12d68ebd",
   "metadata": {},
   "outputs": [],
   "source": [
    "# Drop outliers\n",
    "min_price = 10\n",
    "max_price = 350\n",
    "idx = df['price'].between(min_price, max_price)\n",
    "df = df[idx].copy()\n",
    "# Convert last_review to datetime\n",
    "df['last_review'] = pd.to_datetime(df['last_review'])"
   ]
  },
  {
   "cell_type": "markdown",
   "id": "dbf87dc2",
   "metadata": {},
   "source": [
    "confirm problem fixed"
   ]
  },
  {
   "cell_type": "code",
   "execution_count": 7,
   "id": "0d56d250",
   "metadata": {},
   "outputs": [
    {
     "name": "stdout",
     "output_type": "stream",
     "text": [
      "<class 'pandas.core.frame.DataFrame'>\n",
      "Int64Index: 19001 entries, 0 to 19999\n",
      "Data columns (total 16 columns):\n",
      " #   Column                          Non-Null Count  Dtype         \n",
      "---  ------                          --------------  -----         \n",
      " 0   id                              19001 non-null  int64         \n",
      " 1   name                            18994 non-null  object        \n",
      " 2   host_id                         19001 non-null  int64         \n",
      " 3   host_name                       18993 non-null  object        \n",
      " 4   neighbourhood_group             19001 non-null  object        \n",
      " 5   neighbourhood                   19001 non-null  object        \n",
      " 6   latitude                        19001 non-null  float64       \n",
      " 7   longitude                       19001 non-null  float64       \n",
      " 8   room_type                       19001 non-null  object        \n",
      " 9   price                           19001 non-null  int64         \n",
      " 10  minimum_nights                  19001 non-null  int64         \n",
      " 11  number_of_reviews               19001 non-null  int64         \n",
      " 12  last_review                     15243 non-null  datetime64[ns]\n",
      " 13  reviews_per_month               15243 non-null  float64       \n",
      " 14  calculated_host_listings_count  19001 non-null  int64         \n",
      " 15  availability_365                19001 non-null  int64         \n",
      "dtypes: datetime64[ns](1), float64(3), int64(7), object(5)\n",
      "memory usage: 2.5+ MB\n"
     ]
    }
   ],
   "source": [
    "df.info()"
   ]
  },
  {
   "cell_type": "markdown",
   "id": "718aa793",
   "metadata": {},
   "source": [
    "terminate run"
   ]
  },
  {
   "cell_type": "code",
   "execution_count": null,
   "id": "f0cfda7c",
   "metadata": {},
   "outputs": [],
   "source": [
    "run.finish()"
   ]
  }
 ],
 "metadata": {
  "kernelspec": {
   "display_name": "Python 3",
   "language": "python",
   "name": "python3"
  },
  "language_info": {
   "codemirror_mode": {
    "name": "ipython",
    "version": 3
   },
   "file_extension": ".py",
   "mimetype": "text/x-python",
   "name": "python",
   "nbconvert_exporter": "python",
   "pygments_lexer": "ipython3",
   "version": "3.8.10 (default, Jun 22 2022, 20:18:18) \n[GCC 9.4.0]"
  },
  "vscode": {
   "interpreter": {
    "hash": "916dbcbb3f70747c44a77c7bcd40155683ae19c65e1c03b4aa3499c5328201f1"
   }
  }
 },
 "nbformat": 4,
 "nbformat_minor": 5
}
